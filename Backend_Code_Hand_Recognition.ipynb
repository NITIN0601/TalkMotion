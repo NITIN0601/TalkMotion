{
  "nbformat": 4,
  "nbformat_minor": 0,
  "metadata": {
    "colab": {
      "provenance": [],
      "collapsed_sections": [
        "JWKlGJSJoGJH",
        "Dqv9DhhWoWUM",
        "J6t9JCgEodD-"
      ]
    },
    "kernelspec": {
      "name": "python3",
      "display_name": "Python 3"
    },
    "language_info": {
      "name": "python"
    }
  },
  "cells": [
    {
      "cell_type": "markdown",
      "source": [
        "# Hand Recognition - Backend Code \n",
        "\n",
        "\n"
      ],
      "metadata": {
        "id": "uAg2_fvwm9z0"
      }
    },
    {
      "cell_type": "markdown",
      "source": [
        "##- Team Mates \n",
        "\n",
        "####- Aniv Chakravarty - 11424113 - anivchakravaty@my.unt.edu\n",
        "####- Amardweep Reddy Lakku - 11554827 - amardweepreddylakku@my.unt.edu\n",
        "####- Nisanth Simhadri - 11607161 - nisanthsimhadri@my.unt.edu\n",
        "####- Nitin Dunday Mohan - 11515126 - nitindundaymohan@my.unt.edu\n"
      ],
      "metadata": {
        "id": "hoDIwsapoC2X"
      }
    },
    {
      "cell_type": "markdown",
      "source": [
        "##- Objective :\n",
        "\n",
        "\n"
      ],
      "metadata": {
        "id": "JWKlGJSJoGJH"
      }
    },
    {
      "cell_type": "code",
      "source": [],
      "metadata": {
        "id": "LQpiWElHobLZ"
      },
      "execution_count": null,
      "outputs": []
    },
    {
      "cell_type": "markdown",
      "source": [
        "##- Reseach Work :"
      ],
      "metadata": {
        "id": "Dqv9DhhWoWUM"
      }
    },
    {
      "cell_type": "code",
      "source": [],
      "metadata": {
        "id": "fiQkx5FBochF"
      },
      "execution_count": null,
      "outputs": []
    },
    {
      "cell_type": "markdown",
      "source": [
        "##- Future Work :"
      ],
      "metadata": {
        "id": "J6t9JCgEodD-"
      }
    },
    {
      "cell_type": "code",
      "source": [],
      "metadata": {
        "id": "3as9oWxxoedS"
      },
      "execution_count": null,
      "outputs": []
    },
    {
      "cell_type": "markdown",
      "source": [
        "##- Working Code :"
      ],
      "metadata": {
        "id": "-KJil9Nvo0Z9"
      }
    },
    {
      "cell_type": "markdown",
      "source": [
        "-- Import Statements:"
      ],
      "metadata": {
        "id": "Rp-n8P5hqAxL"
      }
    },
    {
      "cell_type": "code",
      "source": [
        "# importing packages\n",
        "from flask import Flask, request, send_file\n",
        "from pandas.core.internals import concat\n",
        "from flask_ngrok import run_with_ngrok\n",
        "import base64\n",
        "import io\n",
        "from PIL import Image\n",
        "import json\n",
        "\n",
        "import seaborn as sns\n",
        "import matplotlib.pyplot as plt\n",
        "import pandas as pd\n",
        "from pandas import concat\n",
        "\n",
        "#Flask installation\n",
        "!pip install flask-ngrok\n",
        "!curl -O https://bin.equinox.io/c/4VmDzA7iaHb/ngrok-stable-linux-amd64.tgz # HTTPS request and response\n",
        "!tar -xf ngrok-stable-linux-amd64.tgz\n",
        "!./ngrok authtoken 2FCS6Ojtv7WXtRzyRjMM594Hb5q_Z4fSVK4fiN5WrHwUqJBc # Authorization"
      ],
      "metadata": {
        "id": "Kbk1EB1fpVgL"
      },
      "execution_count": null,
      "outputs": []
    },
    {
      "cell_type": "markdown",
      "source": [
        "### -JSON Input data "
      ],
      "metadata": {
        "id": "6-tV6ElRpWhz"
      }
    },
    {
      "cell_type": "code",
      "source": [
        "\n",
        "app = Flask(__name__)\n",
        "\n",
        "input1 = [] # Creating a list to add the data from the input source\n",
        "\n",
        "@app.route(\"/\")\n",
        "def root():\n",
        "  return 'Root of Flask WebApp!'\n",
        "\n",
        "@app.route(\"/train\", methods=[\"POST\"])\n",
        "def train_data():\n",
        "    content = request.get_json()\n",
        "    appname = content.get('name')\n",
        "    labelname = content.get('label')\n",
        "    input1 = content.get('data')\n",
        "    return json.dumps({'msg': 'success', 'response' : 'Trained Successfully'})\n",
        "\n",
        "\n",
        "@app.route(\"/predict\", methods=[\"POST\"])\n",
        "def predict_data():\n",
        "    content = request.get_json()\n",
        "    input1 = content.get('data')\n",
        "    label = predict_gesture(input1) #Model output\n",
        "    return label\n",
        "\n",
        "run_with_ngrok(app)\n",
        "\n",
        "app.run()"
      ],
      "metadata": {
        "colab": {
          "base_uri": "https://localhost:8080/"
        },
        "id": "KtL7mMbCBplZ",
        "outputId": "7e31ffcb-fa18-49e4-e763-9ac783b2b724"
      },
      "execution_count": null,
      "outputs": [
        {
          "output_type": "stream",
          "name": "stdout",
          "text": [
            " * Serving Flask app \"__main__\" (lazy loading)\n",
            " * Environment: production\n",
            "\u001b[31m   WARNING: This is a development server. Do not use it in a production deployment.\u001b[0m\n",
            "\u001b[2m   Use a production WSGI server instead.\u001b[0m\n",
            " * Debug mode: off\n"
          ]
        },
        {
          "output_type": "stream",
          "name": "stderr",
          "text": [
            "INFO:werkzeug: * Running on http://127.0.0.1:5000/ (Press CTRL+C to quit)\n"
          ]
        },
        {
          "output_type": "stream",
          "name": "stdout",
          "text": [
            " * Running on http://7631-35-236-219-233.ngrok.io\n",
            " * Traffic stats available on http://127.0.0.1:4040\n"
          ]
        },
        {
          "output_type": "stream",
          "name": "stderr",
          "text": [
            "INFO:werkzeug:127.0.0.1 - - [09/Oct/2022 16:30:37] \"\u001b[37mPOST /predict HTTP/1.1\u001b[0m\" 200 -\n"
          ]
        },
        {
          "output_type": "stream",
          "name": "stdout",
          "text": [
            "[[-1.7688941955566406, 1.9256240129470825, 9.213563919067383], [-1.5780665874481201, 1.8065811395645142, 9.576674461364746], [-0.25423741340637207, 3.2446675300598145, 9.69093132019043], [0.3936193287372589, 5.745765209197998, 9.623334884643555], [0.039481572806835175, 7.557132244110107, 7.319644451141357], [-2.9832515716552734, 7.824530124664307, 3.0592236518859863], [-5.409573554992676, 7.141379356384277, -0.44386860728263855], [-7.4500532150268555, 5.718846321105957, -0.9188438653945923], [-7.634300708770752, 5.744568824768066, -1.4733805656433105], [-7.579864025115967, 6.040680885314941, -1.3549357652664185], [-7.536793231964111, 6.108277797698975, -1.3561322689056396], [-7.533204078674316, 6.0538411140441895, -1.425524115562439], [-7.573283672332764, 5.802595138549805, -1.333998680114746], [-6.45523738861084, 5.057230472564697, 0.4576273262500763], [-1.7964116334915161, 7.277770042419434, 4.107280254364014], [-0.5994020700454712, 3.451646566390991, 11.00160026550293], [-0.8811569213867188, 1.6121642589569092, 10.735997200012207], [-0.7399803996086121, 1.2083754539489746, 10.123434066772461], [1.7407784461975098, 5.114060401916504, 11.650054931640625], [-0.6969096064567566, 7.265207767486572, 4.84606409072876], [-4.207778453826904, 7.114459991455078, 0.39541393518447876], [-6.477969169616699, 6.507879257202148, -0.7525427341461182]]\n"
          ]
        }
      ]
    },
    {
      "cell_type": "markdown",
      "source": [
        "### EG 1 : Gesture JSON data collected - \" want to rest \""
      ],
      "metadata": {
        "id": "3MwE4Htsr7wx"
      }
    },
    {
      "cell_type": "code",
      "source": [
        "\"\"\"\n",
        "{\n",
        "    \"name\" : \"Bend wrist outward right hand\",\n",
        "    \"label\" : \"want to rest\",\n",
        "    \"key_id\" : 0,\n",
        "    \"time\" : 1645732896831,\n",
        "    \"userId\": \"dbhlWevKUePfKLXNNM2CWswc13l1\",\n",
        "    \"data\": [[-1.7688941955566406, 1.9256240129470825, 9.213563919067383], [-1.5780665874481201, 1.8065811395645142, 9.576674461364746], [-0.25423741340637207, 3.2446675300598145, 9.69093132019043], [0.3936193287372589, 5.745765209197998, 9.623334884643555], [0.039481572806835175, 7.557132244110107, 7.319644451141357], [-2.9832515716552734, 7.824530124664307, 3.0592236518859863], [-5.409573554992676, 7.141379356384277, -0.44386860728263855], [-7.4500532150268555, 5.718846321105957, -0.9188438653945923], [-7.634300708770752, 5.744568824768066, -1.4733805656433105], [-7.579864025115967, 6.040680885314941, -1.3549357652664185], [-7.536793231964111, 6.108277797698975, -1.3561322689056396], [-7.533204078674316, 6.0538411140441895, -1.425524115562439], [-7.573283672332764, 5.802595138549805, -1.333998680114746], [-6.45523738861084, 5.057230472564697, 0.4576273262500763], [-1.7964116334915161, 7.277770042419434, 4.107280254364014], [-0.5994020700454712, 3.451646566390991, 11.00160026550293], [-0.8811569213867188, 1.6121642589569092, 10.735997200012207], [-0.7399803996086121, 1.2083754539489746, 10.123434066772461], [1.7407784461975098, 5.114060401916504, 11.650054931640625], [-0.6969096064567566, 7.265207767486572, 4.84606409072876], [-4.207778453826904, 7.114459991455078, 0.39541393518447876], [-6.477969169616699, 6.507879257202148, -0.7525427341461182]]}\n",
        "\"\"\""
      ],
      "metadata": {
        "id": "QveLWr2IsGuk"
      },
      "execution_count": null,
      "outputs": []
    },
    {
      "cell_type": "markdown",
      "source": [
        "### EG 2 : Gesture JSON data collected - \" Hello \" "
      ],
      "metadata": {
        "id": "byvGiRQcsAR1"
      }
    },
    {
      "cell_type": "code",
      "source": [
        "\"\"\"\n",
        "{\n",
        "  \"name\": \"waving\",\n",
        "  \"label\" : \"Hello\",\n",
        "  \"key_id\" : 1,\n",
        "  \"time\": \"1644622107453\",\n",
        "  \"userId\": \"hIMWm6XvwQd64HcSnR3nQKowjgy2\",\n",
        "  \"data\": \"[[0.352875292301178, 6.181118011474609, 8.738357543945312], [0.697824239730835, 6.305683135986328, 4.91900634765625], [-10.395156860351562, 2.8188250064849854, 7.262742519378662], [-10.394200325012207, -6.555161952972412, 4.458116054534912], [22.803300857543945, -3.3222243785858154, 4.74365758895874], [8.89515209197998, -4.542960166931152, 5.6299848556518555], [-10.395157814025879, -0.9602822065353394, 2.4027957916259766], [-16.789169311523438, -5.386168479919434, 5.927023887634277], [12.357098579406738, -9.77468490600586, 3.32745099067688], [23.909053802490234, -3.0165610313415527, 5.4718828201293945], [-4.760034084320068, -2.8987033367156982, 2.7266645431518555], [-17.97540855407715, 0.04486062377691269, 1.1001346111297607], [-3.6882972717285156, -6.5393524169921875, 3.8726611137390137], [24.747472763061523, -1.8882906436920166, 3.527233600616455], [5.801151752471924, -6.075587272644043, 5.117831230163574], [-19.022714614868164, -8.375246047973633, -2.876359701156616], [-12.280400276184082, -8.630125045776367, 1.7138563394546509], [18.943706512451172, -5.480071067810059, 1.9720890522003174], [18.22314453125, -3.8295865058898926, 5.435471534729004], [-10.423903465270996, -6.0722336769104, -1.4184715747833252], [-12.134275436401367, -6.297408580780029, -0.4746529161930084], [-14.697437286376953, -6.623193740844727, -1.0735225677490234], [-16.896486282348633, -6.800458908081055, -3.028233051300049], [-17.897796630859375, -6.786086082458496, -3.0857245922088623], [-18.458337783813477, -7.006470203399658, -2.5491373538970947], [-19.047626495361328, -6.407600402832031, -2.0077590942382812], [-18.894315719604492, -5.894968032836914, -2.391035795211792], [-18.027151107788086, -5.626674652099609, -2.1514878273010254], [-16.930023193359375, -5.185906410217285, -1.035194993019104], [-16.59944725036621, -4.361861705780029, -0.9920762777328491], [-16.4317626953125, -4.160641670227051, -1.8257029056549072]]\"\n",
        "}\n",
        "\n",
        "\"\"\""
      ],
      "metadata": {
        "id": "oEMaaxomsGXs"
      },
      "execution_count": null,
      "outputs": []
    },
    {
      "cell_type": "markdown",
      "source": [
        "### EG 3 : Gesture JSON data collected "
      ],
      "metadata": {
        "id": "E9oOjQHbsBCi"
      }
    },
    {
      "cell_type": "code",
      "source": [
        "\"\"\"\n",
        "{\n",
        "  \"name\": \"Heart\",\n",
        "  \"label\": \"Thank you\",\n",
        "  \"key_id\" : 2,\n",
        "  \"time\": \"1645733062258\",\n",
        "  \"userId\": \"dbhlWevKUePfKLXNNM2CWswc13l1\",\n",
        "  \"data\": \"[[0.08315058797597885, 7.874181270599365, 5.084748268127441], [-0.7082754969596863, 11.48794174194336, 3.1728827953338623], [-3.675375461578369, 9.68375301361084, 3.394218921661377], [-0.9218349456787109, 4.944169998168945, -0.865005373954773], [3.362514019012451, 7.318448066711426, -1.566102385520935], [4.010969161987305, 9.342177391052246, 0.7328019142150879], [2.6703901290893555, 9.880562782287598, 3.920639991760254], [-0.02871387079358101, 8.474181175231934, 5.879763603210449], [-1.059422254562378, 9.288339614868164, 6.903891563415527], [3.259622573852539, 9.074779510498047, 4.8777689933776855], [3.2781670093536377, 10.259825706481934, 5.960521221160889], [-4.383052825927734, 10.331609725952148, 7.753942012786865], [-3.0418758392333984, 6.096911907196045, 2.4149563312530518], [0.7286145091056824, 5.088337421417236, -2.451446771621704], [2.485544443130493, 8.281558990478516, -2.757728099822998], [0.9343972206115723, 11.977871894836426, 0.4731806814670563], [-0.3517449200153351, 10.462616920471191, 1.174277663230896], [-0.3798605799674988, 9.627521514892578, 0.8835497498512268], [-0.4085744619369507, 9.725028991699219, 0.9954141974449158], [-0.27696922421455383, 9.784850120544434, 0.9457631707191467], [-0.21236300468444824, 9.680164337158203, 0.8482556343078613]]\"\n",
        "}\n",
        "\"\"\""
      ],
      "metadata": {
        "id": "Vm4nEFCtr63z"
      },
      "execution_count": null,
      "outputs": []
    },
    {
      "cell_type": "code",
      "source": [],
      "metadata": {
        "id": "bOqD7hA3xuzX"
      },
      "execution_count": null,
      "outputs": []
    },
    {
      "cell_type": "markdown",
      "source": [
        "Explanation :\n",
        "\n",
        "-> The Name is used as the Label in the model\n",
        "\n",
        "-> The UserID is used as the unique id for an user. \n",
        "\n",
        "-> Data is used as the imput points for a particular gesture data."
      ],
      "metadata": {
        "id": "FQj-PY07slBp"
      }
    },
    {
      "cell_type": "markdown",
      "source": [
        "##- Feature Engineering :"
      ],
      "metadata": {
        "id": "Xjcw0MEkpCqt"
      }
    },
    {
      "cell_type": "code",
      "source": [
        "#Converting the input data to collect usefull information\n",
        "#Creating a dataframe - While Testing \n",
        "df = pd.DataFrame(data, columns = ['X','Y','Z'])\n",
        "df['Label'] = label\n",
        "df['id'] = key_id\n",
        "\n",
        "# print dataframe\n",
        "print(df)"
      ],
      "metadata": {
        "id": "cnsNpMBxjSWz"
      },
      "execution_count": null,
      "outputs": []
    },
    {
      "cell_type": "code",
      "source": [
        "info_data = [] # Data frame - While Training\n",
        "df = pd.DataFrame(data, columns = ['name', 'label','key_id','time','userId','data'])\n",
        " \n",
        "# print dataframe\n",
        "print(df) "
      ],
      "metadata": {
        "id": "QFZN4ko9pd_q"
      },
      "execution_count": null,
      "outputs": []
    },
    {
      "cell_type": "code",
      "source": [
        "#using saved dataframe\n",
        "path =\" \" #specified file path \n",
        "file_name = \"  \"#Name of the pickle file\n",
        "total_path = path+\"/\"+file_name\n",
        "\n",
        "#Saving the data into pickle\n",
        "df.to_pickle(total_path)  \n",
        "#To retrive the data from the pickle\n",
        "df = pd.read_pickle(total_path)  "
      ],
      "metadata": {
        "id": "4PrgvtnZndOP"
      },
      "execution_count": null,
      "outputs": []
    },
    {
      "cell_type": "markdown",
      "source": [
        "-Data Visualizations based on the imputs :"
      ],
      "metadata": {
        "id": "QnfejOdOpJJj"
      }
    },
    {
      "cell_type": "code",
      "source": [
        "#Data visualizations\n",
        "def plot_hist(x_info,y_info,z_info,df): # Histogram plot is visualized\n",
        "  sns.histplot(x_info, data=df)\n",
        "  plt.show()\n",
        "  sns.histplot(y_info, data=df)\n",
        "  plt.show()\n",
        "  sns.histplot(z_info, data=df)\n",
        "  plt.show()\n",
        "  return\n",
        "\n",
        "def plot_graph(x_info,y_info,z_info): \n",
        "  fig = plt.figure()\n",
        "  ax = plt.axes()\n",
        "  ax.plot(x_info); #Blue\n",
        "  ax.plot(y_info); #orange\n",
        "  ax.plot(z_info); #green\n",
        "  return \n",
        "\n",
        "def plot_3d(x_info,y_info,z_info):\n",
        "  fig = plt.figure()\n",
        "  ax = plt.axes(projection='3d')\n",
        "  ax.view_init(elev=30, azim=-160)\n",
        "  ax.plot3D('x_info','y_info','z_info', 'gray')# Data for three-dimensional scattered points\n",
        "  ax.scatter3D('x_info','y_info','z_info', cmap='Greens');\n",
        "  return"
      ],
      "metadata": {
        "id": "eYTNd7PwtY5r"
      },
      "execution_count": null,
      "outputs": []
    },
    {
      "cell_type": "code",
      "source": [
        "#Visualizing the data based on the User Gestures\n",
        "plot_hist(df['X'],df['Y'],df['Z'])\n",
        "plot_graph(df['X'],df['Y'],df['Z'])\n",
        "plot_3d(df['X'],df['Y'],df['Z'])"
      ],
      "metadata": {
        "id": "6Jva4bJyodsB"
      },
      "execution_count": null,
      "outputs": []
    },
    {
      "cell_type": "markdown",
      "source": [
        "##- Model Working :"
      ],
      "metadata": {
        "id": "DhkFg7noo-Mz"
      }
    },
    {
      "cell_type": "code",
      "source": [],
      "metadata": {
        "id": "s88LJoyzo9ku"
      },
      "execution_count": null,
      "outputs": []
    },
    {
      "cell_type": "markdown",
      "source": [
        "-- Text/Label Output data:"
      ],
      "metadata": {
        "id": "xvTwsYaqp1mX"
      }
    }
  ]
}